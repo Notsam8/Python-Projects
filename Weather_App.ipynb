{
  "nbformat": 4,
  "nbformat_minor": 0,
  "metadata": {
    "colab": {
      "provenance": []
    },
    "kernelspec": {
      "name": "python3",
      "display_name": "Python 3"
    },
    "language_info": {
      "name": "python"
    }
  },
  "cells": [
    {
      "cell_type": "code",
      "execution_count": null,
      "metadata": {
        "id": "fWgSffgfZ_KB"
      },
      "outputs": [],
      "source": [
        "import datetime as dt\n",
        "import requests\n",
        "\n",
        "BASE_URL = \"http://api.openweathermap.org/data/2.5/weather?\"\n",
        "API_KEY = '29525fc61b32c38cc6fd70dfdd805c8f'\n",
        "CITY = 'Oakville'\n",
        "\n",
        "def kelvin_to_celsius_farenheit(kelvin):\n",
        "  celsius = kelvin - 273.15\n",
        "  fahrenheit = celsius * (9/5) + 32\n",
        "  return celsius,fahrenheit\n",
        "\n",
        "\n",
        "url = BASE_URL + \"appid=\" + API_KEY + \"&q=\" + CITY\n",
        "\n",
        "response = requests.get(url).json()\n",
        "\n",
        "temp_kelvin = response['main']['temp']\n",
        "temp_celsius, temp_fahrenhiet = kelvin_to_celsius_farenheit(temp_kelvin)\n",
        "feels_like_kelvin = response['main']['feels_like']\n",
        "feels_like_celsius, feels_like_fahrenhiet = kelvin_to_celsius_farenheit(feels_like_kelvin)\n",
        "wind_speed = response['wind']['speed']\n",
        "humidity = response['main']['humidity']\n",
        "description = response['weather'][0]['description']\n",
        "sunrise_time = dt.datetime.utcfromtimestamp(response['sys']['sunrise'] + response['timezone'])\n",
        "sunset_time = dt.datetime.utcfromtimestamp(response['sys']['sunset'] + response['timezone'])\n",
        "\n",
        "print(f\"Temperature in {CITY} is: {temp_celsius:.2f}°C or {temp_fahrenhiet:.2f}°F\")\n",
        "print(f\"Temperature in {CITY} feels like: {feels_like_celsius:.2f}°C or {feels_like_fahrenhiet:.2f}°F\")\n",
        "print(f\"Humidity in {CITY}: {humidity}%\")\n",
        "print(f\"Wind Speed in {CITY}: {wind_speed}m/s\")\n",
        "print(f\"Sun Rises In {CITY} at {sunrise_time} local time. \")\n",
        "print(f\"Sun Sets In {CITY} at {sunset_time} local time. \")\n",
        "print(f\"General Weather In {CITY}: {description} \")"
      ]
    }
  ]
}