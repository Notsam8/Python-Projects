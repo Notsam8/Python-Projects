{
  "nbformat": 4,
  "nbformat_minor": 0,
  "metadata": {
    "colab": {
      "provenance": []
    },
    "kernelspec": {
      "name": "python3",
      "display_name": "Python 3"
    },
    "language_info": {
      "name": "python"
    }
  },
  "cells": [
    {
      "cell_type": "code",
      "source": [
        "import random\n",
        "import string\n",
        "import tkinter as tk\n",
        "from tkinter import messagebox\n",
        "\n",
        "# Function to generate a password\n",
        "def generate_password(length):\n",
        "    # Define what characters would be outputed\n",
        "    all_characters = string.ascii_letters + string.digits + string.punctuation\n",
        "    # Generate a random password of the given length\n",
        "    password = ''.join(random.choice(all_characters) for i in range(length))\n",
        "    return password\n",
        "\n",
        "# Function to save the password to a file\n",
        "def save_password_to_file(password, filename=\"passwords.txt\"):\n",
        "    try:\n",
        "        with open(filename, \"a\") as file:\n",
        "            file.write(f\"{password}\\n\")\n",
        "        messagebox.showinfo(\"Success\", f\"Password saved to {filename}\")\n",
        "    except Exception as e:\n",
        "        messagebox.showerror(\"Error\", f\"Failed to save password: {str(e)}\")\n",
        "\n",
        "# Function to generate and display the password\n",
        "def on_generate_button_click():\n",
        "    try:\n",
        "        length = int(entry_length.get())  # Get the password length from the input box\n",
        "        if length < 1:\n",
        "            messagebox.showerror(\"Invalid Input\", \"Password length must be at least 1.\")\n",
        "            return\n",
        "        password = generate_password(length)\n",
        "        entry_password.delete(0, tk.END)  # Clear previous password\n",
        "        entry_password.insert(0, password)  # Display the generated password\n",
        "    except ValueError:\n",
        "        messagebox.showerror(\"Invalid Input\", \"Please enter a valid number for the length.\")\n",
        "\n",
        "# Function to save the generated password\n",
        "def on_save_button_click():\n",
        "    password = entry_password.get()\n",
        "    if password:\n",
        "        save_password_to_file(password)\n",
        "    else:\n",
        "        messagebox.showerror(\"No Password\", \"Please generate a password first.\")\n",
        "\n",
        "# Create the mk.Tkain window\n",
        "window = tk.Tk()\n",
        "window.title(\"Password Generator\")\n",
        "\n",
        "# Create and place the widgets (labels, text boxes, buttons)\n",
        "label_length = tk.Label(window, text=\"Enter password length:\")\n",
        "label_length.pack(pady=5)\n",
        "\n",
        "entry_length = tk.Entry(window)\n",
        "entry_length.pack(pady=5)\n",
        "\n",
        "button_generate = tk.Button(window, text=\"Generate Password\", command=on_generate_button_click)\n",
        "button_generate.pack(pady=5)\n",
        "\n",
        "label_password = tk.Label(window, text=\"Generated Password:\")\n",
        "label_password.pack(pady=5)\n",
        "\n",
        "entry_password = tk.Entry(window, width=40)\n",
        "entry_password.pack(pady=5)\n",
        "\n",
        "button_save = tk.Button(window, text=\"Save Password\", command=on_save_button_click)\n",
        "button_save.pack(pady=5)\n",
        "\n",
        "# Run the Tkinter event loop\n",
        "window.mainloop()"
      ],
      "metadata": {
        "id": "cIlG5EhxL9T6"
      },
      "execution_count": null,
      "outputs": []
    }
  ]
}