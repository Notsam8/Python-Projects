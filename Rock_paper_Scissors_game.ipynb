{
  "nbformat": 4,
  "nbformat_minor": 0,
  "metadata": {
    "colab": {
      "provenance": []
    },
    "kernelspec": {
      "name": "python3",
      "display_name": "Python 3"
    },
    "language_info": {
      "name": "python"
    }
  },
  "cells": [
    {
      "cell_type": "code",
      "execution_count": null,
      "metadata": {
        "id": "GCZvI9l-ZwHa"
      },
      "outputs": [],
      "source": [
        "def draw(choice):\n",
        "  if choice == \"rock\":\n",
        "    return(\"\"\"\n",
        "    _______\n",
        "---|'   _____)\n",
        "      (______)\n",
        "      (______)\n",
        "      (_____)\n",
        "---,__(___)\n",
        "\"\"\")\n",
        "  elif choice == \"paper\":\n",
        "    return(\"\"\"\n",
        "    __________\n",
        "---|     ______)____\n",
        "             _______)\n",
        "             _______)\n",
        "             ______)\n",
        "---,_____________)\n",
        "\"\"\")\n",
        "  elif choice == 'scissors':\n",
        "    return(\"\"\"\n",
        "    ________\n",
        "---|   _____)___\n",
        "          ______)\n",
        "         ________)\n",
        "        (____)\n",
        "  ---,__(___)\n",
        "\"\"\")"
      ]
    },
    {
      "cell_type": "code",
      "source": [
        "import random,os\n",
        "\n",
        "\n",
        "choices = [\"rock\", \"paper\", \"scissors\"]\n",
        "\n",
        "def determine_winner(player, opp):\n",
        "  #Check if its a tie\n",
        "  if player == opp:\n",
        "    return(\"it's a tie game!\")\n",
        "  #Check if the user won\n",
        "  elif ((player == 'rock' and opp == 'scissors')or\n",
        "        (player == 'paper' and opp == 'rock')or\n",
        "        (player == 'scissors' and opp == 'paper') ):\n",
        "    return('You won, Congratulations!')\n",
        "  # If they didn't win, then we know the lost\n",
        "  else:\n",
        "    return('You lost, sorry')\n",
        "\n",
        "\n",
        "\n",
        "playing, invalid = True, False\n",
        "\n",
        "while playing:\n",
        "  #Ask the user to make selection\n",
        "  # Let them know if their previous choice was Invalid\n",
        "  if not invalid:\n",
        "    print(\"Choose rock, paper, or scissors\")\n",
        "  else:\n",
        "      print(\"Invalid input, please type rock, paper, or scissors\")\n",
        "      invalid = False\n",
        "  print(\" Or press q to quit\")\n",
        "  # Get the user input, make it lowercase and remove extra spaces\n",
        "  player_choice = input().lower().strip()\n",
        "  #Generate a random choice for the computer\n",
        "  opp_choice = random.choice(choices)\n",
        "\n",
        "  # Check and see if the user made a valid entry\n",
        "  if player_choice in choices:\n",
        "      print(\"You Chose:\"+ player_choice + draw(player_choice))\n",
        "      print(\"The Opponent Chose:\"+ opp_choice + draw(opp_choice))\n",
        "      print(determine_winner(player_choice, opp_choice))\n",
        "  # End the loop if the player wants to leave\n",
        "  elif player_choice == 'q':\n",
        "    playing = False\n",
        "\n",
        "\n",
        "  else:\n",
        "    invalid = True\n",
        "    replay = input(\"Wanna play again?\\nType\\\"yes\\\" to replay\\nEnter anything else to end the game\\n\").lower().strip()\n",
        "    print()\n",
        "    playing = replay == 'yes'\n",
        "\n",
        "\n",
        "  #Clear the sytem\n",
        "  os.system('cls' if os.name =='nt' else ' clear')\n",
        "\n",
        "print(\"Thanks For Playing\")"
      ],
      "metadata": {
        "id": "T59SRBEzZxzA"
      },
      "execution_count": null,
      "outputs": []
    }
  ]
}